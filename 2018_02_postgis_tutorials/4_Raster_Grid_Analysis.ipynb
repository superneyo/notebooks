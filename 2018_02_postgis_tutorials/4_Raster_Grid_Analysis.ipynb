{
 "cells": [
  {
   "cell_type": "code",
   "execution_count": 1,
   "metadata": {},
   "outputs": [
    {
     "name": "stdout",
     "output_type": "stream",
     "text": [
      "--2018-02-07 05:02:19--  http://ede.grid.unep.ch/download/Nightlights_2003_tif.zip\n",
      "Resolving ede.grid.unep.ch (ede.grid.unep.ch)... 129.194.205.21\n",
      "Connecting to ede.grid.unep.ch (ede.grid.unep.ch)|129.194.205.21|:80... connected.\n",
      "HTTP request sent, awaiting response... 200 OK\n",
      "Length: 13300951 (13M) [application/zip]\n",
      "Saving to: ‘/tmp/Nightlights_2003_tif.zip’\n",
      "\n",
      "/tmp/Nightlights_20 100%[===================>]  12.68M  20.3MB/s    in 0.6s    \n",
      "\n",
      "2018-02-07 05:02:20 (20.3 MB/s) - ‘/tmp/Nightlights_2003_tif.zip’ saved [13300951/13300951]\n",
      "\n",
      "Archive:  /tmp/Nightlights_2003_tif.zip\n",
      "  inflating: /tmp/Nighlights 2003.lyr  \n",
      "  inflating: /tmp/Nightlights_2003.tif  \n",
      "  inflating: /tmp/Nightlights_2003.xml  \n"
     ]
    }
   ],
   "source": [
    "!wget -O /tmp/Nightlights_2003_tif.zip \"http://ede.grid.unep.ch/download/Nightlights_2003_tif.zip\"\n",
    "\n",
    "!unzip /tmp/Nightlights_2003_tif.zip -d /tmp"
   ]
  },
  {
   "cell_type": "code",
   "execution_count": 2,
   "metadata": {},
   "outputs": [
    {
     "name": "stdout",
     "output_type": "stream",
     "text": [
      "Driver: GTiff/GeoTIFF\r\n",
      "Files: /tmp/Nightlights_2003.tif\r\n",
      "Size is 43201, 15601\r\n",
      "Coordinate System is:\r\n",
      "GEOGCS[\"WGS 84\",\r\n",
      "    DATUM[\"WGS_1984\",\r\n",
      "        SPHEROID[\"WGS 84\",6378137,298.257223563,\r\n",
      "            AUTHORITY[\"EPSG\",\"7030\"]],\r\n",
      "        AUTHORITY[\"EPSG\",\"6326\"]],\r\n",
      "    PRIMEM[\"Greenwich\",0],\r\n",
      "    UNIT[\"degree\",0.0174532925199433],\r\n",
      "    AUTHORITY[\"EPSG\",\"4326\"]]\r\n",
      "Origin = (-180.000000000000000,65.000000000000000)\r\n",
      "Pixel Size = (0.008333330042660,-0.008333330042660)\r\n",
      "Metadata:\r\n",
      "  AREA_OR_POINT=Area\r\n",
      "  TIFFTAG_RESOLUTIONUNIT=1 (unitless)\r\n",
      "  TIFFTAG_SOFTWARE=IMAGINE TIFF Support\r\n",
      "Copyright 1991 - 1999 by ERDAS, Inc. All Rights Reserved\r\n",
      "@(#)$RCSfile: etif.c $ $Revision: 1.10.1.9.1.9.2.11 $ $Date: 2004/09/15 18:42:01EDT $\r\n",
      "  TIFFTAG_XRESOLUTION=1\r\n",
      "  TIFFTAG_YRESOLUTION=1\r\n",
      "Image Structure Metadata:\r\n",
      "  INTERLEAVE=BAND\r\n",
      "Corner Coordinates:\r\n",
      "Upper Left  (-180.0000000,  65.0000000) (180d 0' 0.00\"W, 65d 0' 0.00\"N)\r\n",
      "Lower Left  (-180.0000000, -65.0082820) (180d 0' 0.00\"W, 65d 0'29.82\"S)\r\n",
      "Upper Right ( 180.0081912,  65.0000000) (180d 0'29.49\"E, 65d 0' 0.00\"N)\r\n",
      "Lower Right ( 180.0081912, -65.0082820) (180d 0'29.49\"E, 65d 0'29.82\"S)\r\n",
      "Center      (   0.0040956,  -0.0041410) (  0d 0'14.74\"E,  0d 0'14.91\"S)\r\n",
      "Band 1 Block=64x64 Type=Byte, ColorInterp=Gray\r\n"
     ]
    }
   ],
   "source": [
    "!gdalinfo /tmp/Nightlights_2003.tif"
   ]
  },
  {
   "cell_type": "code",
   "execution_count": 3,
   "metadata": {},
   "outputs": [
    {
     "name": "stdout",
     "output_type": "stream",
     "text": [
      "                                st_extent                                 \r\n",
      "--------------------------------------------------------------------------\r\n",
      " BOX(-5.1413332610739 41.3336317564725,9.55996004666832 51.0890003105061)\r\n",
      "(1 row)\r\n",
      "\r\n"
     ]
    }
   ],
   "source": [
    "!psql -c \"SELECT ST_Extent(ST_Transform(geom, 4326)) FROM data.district_area\" osm"
   ]
  },
  {
   "cell_type": "code",
   "execution_count": 4,
   "metadata": {},
   "outputs": [
    {
     "name": "stdout",
     "output_type": "stream",
     "text": [
      "Input file size is 43201, 15601\n",
      "0...10...20...30...40...50...60...70...80...90...100 - done.\n",
      "Creating output file that is 1668P x 1508L.\n",
      "Processing input file /tmp/nightlight_2003_france.tif.\n",
      "0...10...20...30...40...50...60...70...80...90...100 - done.\n",
      "Driver: GTiff/GeoTIFF\n",
      "Files: /tmp/nightlight_2003_france_2154.tif\n",
      "Size is 1668, 1508\n",
      "Coordinate System is:\n",
      "PROJCS[\"RGF93 / Lambert-93\",\n",
      "    GEOGCS[\"RGF93\",\n",
      "        DATUM[\"Reseau_Geodesique_Francais_1993\",\n",
      "            SPHEROID[\"GRS 1980\",6378137,298.257222101,\n",
      "                AUTHORITY[\"EPSG\",\"7019\"]],\n",
      "            TOWGS84[0,0,0,0,0,0,0],\n",
      "            AUTHORITY[\"EPSG\",\"6171\"]],\n",
      "        PRIMEM[\"Greenwich\",0,\n",
      "            AUTHORITY[\"EPSG\",\"8901\"]],\n",
      "        UNIT[\"degree\",0.0174532925199433,\n",
      "            AUTHORITY[\"EPSG\",\"9122\"]],\n",
      "        AUTHORITY[\"EPSG\",\"4171\"]],\n",
      "    PROJECTION[\"Lambert_Conformal_Conic_2SP\"],\n",
      "    PARAMETER[\"standard_parallel_1\",49],\n",
      "    PARAMETER[\"standard_parallel_2\",44],\n",
      "    PARAMETER[\"latitude_of_origin\",46.5],\n",
      "    PARAMETER[\"central_meridian\",3],\n",
      "    PARAMETER[\"false_easting\",700000],\n",
      "    PARAMETER[\"false_northing\",6600000],\n",
      "    UNIT[\"metre\",1,\n",
      "        AUTHORITY[\"EPSG\",\"9001\"]],\n",
      "    AXIS[\"X\",EAST],\n",
      "    AXIS[\"Y\",NORTH],\n",
      "    AUTHORITY[\"EPSG\",\"2154\"]]\n",
      "Origin = (17608.219482091022655,7140135.294071630574763)\n",
      "Pixel Size = (738.902754738986459,-738.902754738986459)\n",
      "Metadata:\n",
      "  AREA_OR_POINT=Area\n",
      "  TIFFTAG_RESOLUTIONUNIT=1 (unitless)\n",
      "  TIFFTAG_SOFTWARE=IMAGINE TIFF Support\n",
      "Copyright 1991 - 1999 by ERDAS, Inc. All Rights Reserved\n",
      "@(#)$RCSfile: etif.c $ $Revision: 1.10.1.9.1.9.2.11 $ $Date: 2004/09/15 18:42:01EDT $\n",
      "  TIFFTAG_XRESOLUTION=1\n",
      "  TIFFTAG_YRESOLUTION=1\n",
      "Image Structure Metadata:\n",
      "  INTERLEAVE=BAND\n",
      "Corner Coordinates:\n",
      "Upper Left  (   17608.219, 7140135.294) (  6d43'12.30\"W, 50d58'43.06\"N)\n",
      "Lower Left  (   17608.219, 6025869.940) (  5d 5'56.38\"W, 41d 1'13.58\"N)\n",
      "Upper Right ( 1250098.014, 7140135.294) ( 10d50'58.32\"E, 51d 6'37.31\"N)\n",
      "Lower Right ( 1250098.014, 6025869.940) (  9d32'12.76\"E, 41d 7'49.12\"N)\n",
      "Center      (  633853.117, 6583002.617) (  2d 8'23.72\"E, 46d20'37.32\"N)\n",
      "Band 1 Block=1668x4 Type=Byte, ColorInterp=Gray\n"
     ]
    }
   ],
   "source": [
    "!gdal_translate \\\n",
    "   -projwin  -5.1413332610739 51.0890003105061  9.55996004666832 41.3336317564725 \\\n",
    "   /tmp/Nightlights_2003.tif /tmp/nightlight_2003_france.tif\n",
    "    \n",
    "!gdalwarp -t_srs EPSG:2154 /tmp/nightlight_2003_france.tif /tmp/nightlight_2003_france_2154.tif\n",
    "\n",
    "!gdalinfo /tmp/nightlight_2003_france_2154.tif"
   ]
  },
  {
   "cell_type": "code",
   "execution_count": 5,
   "metadata": {},
   "outputs": [
    {
     "name": "stdout",
     "output_type": "stream",
     "text": [
      "Processing 1/1: /tmp/nightlight_2003_france_2154.tif\n",
      "INFO: Using computed tile size: 98x52\n",
      "BEGIN\n",
      "DROP TABLE\n",
      "CREATE TABLE\n",
      "COPY 11\n",
      "COPY 11\n",
      "COPY 11\n",
      "COPY 11\n",
      "COPY 11\n",
      "COPY 11\n",
      "COPY 11\n",
      "COPY 11\n",
      "COPY 11\n",
      "COPY 11\n",
      "COPY 11\n",
      "COPY 11\n",
      "COPY 11\n",
      "COPY 11\n",
      "COPY 11\n",
      "COPY 11\n",
      "COPY 11\n",
      "COPY 11\n",
      "COPY 11\n",
      "COPY 11\n",
      "COPY 11\n",
      "COPY 11\n",
      "COPY 11\n",
      "COPY 11\n",
      "COPY 11\n",
      "COPY 11\n",
      "COPY 11\n",
      "COPY 11\n",
      "COPY 11\n",
      "COPY 11\n",
      "COPY 11\n",
      "COPY 11\n",
      "COPY 11\n",
      "COPY 11\n",
      "COPY 11\n",
      "COPY 11\n",
      "COPY 11\n",
      "COPY 11\n",
      "COPY 11\n",
      "COPY 11\n",
      "COPY 11\n",
      "COPY 11\n",
      "COPY 11\n",
      "COPY 11\n",
      "COPY 11\n",
      "COPY 11\n",
      "COPY 11\n",
      "COPY 5\n",
      "CREATE INDEX\n",
      "ANALYZE\n",
      "NOTICE:  Adding SRID constraint\n",
      "NOTICE:  Adding scale-X constraint\n",
      "NOTICE:  Adding scale-Y constraint\n",
      "NOTICE:  Adding blocksize-X constraint\n",
      "NOTICE:  Adding blocksize-Y constraint\n",
      "NOTICE:  Adding alignment constraint\n",
      "NOTICE:  Adding coverage tile constraint required for regular blocking\n",
      "NOTICE:  Adding spatially unique constraint required for regular blocking\n",
      "NOTICE:  Adding number of bands constraint\n",
      "NOTICE:  Adding pixel type constraint\n",
      "NOTICE:  Adding nodata value constraint\n",
      "NOTICE:  Adding out-of-database constraint\n",
      "NOTICE:  Adding maximum extent constraint\n",
      " addrasterconstraints \n",
      "----------------------\n",
      " t\n",
      "(1 row)\n",
      "\n",
      "COMMIT\n"
     ]
    }
   ],
   "source": [
    "!raster2pgsql -d -s 4326 -I -t auto -Y -C -r /tmp/nightlight_2003_france_2154.tif data.nightlight | psql osm"
   ]
  }
 ],
 "metadata": {
  "kernelspec": {
   "display_name": "Python 3",
   "language": "python",
   "name": "python3"
  },
  "language_info": {
   "codemirror_mode": {
    "name": "ipython",
    "version": 3
   },
   "file_extension": ".py",
   "mimetype": "text/x-python",
   "name": "python",
   "nbconvert_exporter": "python",
   "pygments_lexer": "ipython3",
   "version": "3.5.2"
  }
 },
 "nbformat": 4,
 "nbformat_minor": 2
}
